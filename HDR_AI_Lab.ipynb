{
  "nbformat": 4,
  "nbformat_minor": 0,
  "metadata": {
    "colab": {
      "name": "HDR_AI_Lab.ipynb",
      "provenance": [],
      "collapsed_sections": [],
      "authorship_tag": "ABX9TyO8i/RyGmKGq1/znReaI4Vj",
      "include_colab_link": true
    },
    "kernelspec": {
      "display_name": "Python 3",
      "name": "python3"
    }
  },
  "cells": [
    {
      "cell_type": "markdown",
      "metadata": {
        "id": "view-in-github",
        "colab_type": "text"
      },
      "source": [
        "<a href=\"https://colab.research.google.com/github/tanishka2000/HDR-KNN/blob/main/HDR_AI_Lab.ipynb\" target=\"_parent\"><img src=\"https://colab.research.google.com/assets/colab-badge.svg\" alt=\"Open In Colab\"/></a>"
      ]
    },
    {
      "cell_type": "markdown",
      "metadata": {
        "id": "sbX_5Ppu8wkr"
      },
      "source": [
        "![1_Xg10loz1z1XpvPqoGA0pDQ.png](data:image/png;base64,iVBORw0KGgoAAAANSUhEUgAAAWUAAAB3CAIAAABUjsbIAAApD0lEQVR42uy9CZxU1Z33ffe19r26eqneF2iggYYGGhQQRBQ10SRGkjiZxJiZZJZMMnmdzDtx3smbeSbJZPLMYiZ5TGaJjokaBKMoqIAsAgJNC03vTa/VW3XXvtz9nudDV9OyNFJNaGjgfD9++GBx695b597zO//tnEMAABAIBALJAgw2AQQCgXoBgUCgXkAgEKgXEAgE6gUEAoF6AYFAoF5AIBAI1AsIBAL1AgKBQL2AQCBQLyAQCNQLCAQC9QICgUCgXkAgEKgXEAgE6gUEArmJELAJIFNomnbixImTJ0/CpriFKC8vX7duHdQLyI1GFMVt27Y999xzpaWlsDVuFTZv3gz1AnITiEajqVTqrrvu2rFjB2wNyOXA+AXkI2RZVlUVtgME2heQrOwLh8Nhs9lgU0CgXkCugiAIVqvVZDLBpoBAfwRyFVRVxXGcpmnYFBCoF5CrEIvF0uk0bAcI1AvI1YlEIjzP5+fnZ3e4nu498OZP/6x2+Zrae3/0y/e6B2W49xXUC8gd5o8wDJPd4Shpzs0vLltXhgwbeJQiWRyFbXh7A+OdkI8Ih8MAgKzjFyhpzc0vW7h58QetxHy/x2TCYRNCvYDcMZw9e9ZutxsMhmy/AEQhngielRfWg/RId1MMQTCGYJ0FhVaexKF6QL2A3M709/fTND0DvZBDkf6hhrdSAH32m88c6eoaQrgK2/yv//crn1vpM1qgdwL1AgKZsi6U8cGBUOhQ1ca/+tLiBTmWhl5cLL3vk5vqFrs4IxQLqBeQ2xVN0yKRiCRJLMvyPJ/dl8TIUF9wfJBevJYdjuLVm9av8HnzyyoLrQyKQLm4LYH5EciEqQBALBZTVZVhmGz1Qo2MdPX2ne6ghPZ920+P0GX+msWLi6wsFAuoF5DbXi8yYBhGEFlZnXpyoLcn1NWa4AMNr787GorpFAVDnFAvIHcGoijqup714bo40NGieWPr/ug7z3zuYXOcTCQTaR024+0NjF9AkEz8YmRkZMWKFdXV1dmIBYIkA+3tKmXy11YUWNL+wp4TwQ72oMI6iVjF8horTmPQKYH2BeT29UckSbJYLEajMYujNUQKdDWIuGBZUJ5n4DwVy2yDzS0NbWNB3pnDYjgKxQLaF5DbWi8EQcAwDM+qzApFAGkuXLbIlp+fayVppnjdgysxhSrMd+T78zk4CN22oADAOUIQJJFIvPjii6lUauXKlXV1dbBBINAfgXxc/CIYDJrNZovFAlsDAv0RyNVdEnSuxB00IdQ9PDzWqc9bXW7k6Nt1VNMQJNV3slezuSw5bht1SeMDBFFjvYf2/ea3u/a1dhL+ivu2fn7Lknk+s5FAoX0BuZmoqtrT0wMAoCjq5qoWgkjxvuaO7pEe0ZTvoInbeY48hiCUyYpEujtaG1r7ktpFoQFVAGMN+0+MxyzVSzfctaYMH93xyx17TjcNJlToj0BuLoqiNDc3AwBYlr2ZJo6uiGOtTW29PRGSd/krchiKuI31AkUQxurzmOh0+Gz7scPdIRmok5oBNCkd72wfQ9x5qx/+5Fe+8uTj6+v5jqP7mxq7QgkA/RHIzdaL/v7+C+wLHVHToeFgNCmI160Ii6Q5k83rstDY9MUZQNXF8Z5jh06ESvMr/TX5hjsiK0u5ShYURMdP7d51kC/z1uVwVgpDEV3TQHTcULOiyuey20hdLqnd8mjl878c6+2PxPRCKw71AnKz3GhNkyTpokyZJunjh3799N+98HbjqeT1uk5+6fKH//hfvvt4BWeippECIEeFoaMvvAwWbC1YWu26cxYdRo0llQtCcmrvD3a0eD8zz+jlSQSnjI78+x/Ow7CJoBKKYSRnNGH4Te6wUC8giCRJ4+Pjuq5bLJbJyWYYjdlq7//iY6G0NrbjWHfmuKINmx66/7ENi4qN+AxcDE2M9p1qPPDmmwcGhxIjZ0eTaimDIJefQU6HBjoP7htcsGVtntNF3VGeMsG58vOLyxZtf6Fh/ld5trTMQiIoiuJTwRug66qQFEpWFZWVOO0Y1AvIzUPXdVmWAQAMw0z6IyiGULa8pZvu/6woyupv3jwZQBA13j8SjAQR9/3Lym0kml3BNwC6KswrLS9ymvldB7t0QVL16Up+QHp0pKXld7+Oeb+a63IY6DsrsIZirN3iLVxV9OrLjZ0WpyPP7GIvbF4tmY6NHmnwrlpbsbjExqFzWy8AACkxPBxthl1rVjEwTo+l4sYnNTN6gSAIjuMYNtVTUcJSPH/tZlSXxXDshZN9kfH2toNvbGM4q/HTD9TkOjgii1gkimIk5/CXLWeQeJo2n21QtOnkQpfDfT0trTtPm7/ksVh58o579hjLmJxVS80Dvz3TnJu/pMxRyGIfOYfR4FjvwICxbn2Vv9TF4XPZHwEAqKo6Gune1/ysgbVhKJyzPCuIcsJnq3EYSgiCuMGSIctyIpEwm82XJVNxxlk5fz32FTze/syLx3qCkf6Gxp3Cj2SD/VuPrCqxOzgiWzuAdPsXLFxE0B+MCvpEpOSiX6inwwNn2892d+UvddgZjroDp5+gOMlaPXnsmaa+4oqu+srCvMwq7boqRMYHhgODctkTm4p8vOmmJpivrheapgmCkE6nSIJZW/Mkz8DNNWeFxs7X0ykpnU7zPI/j+I2UDEVRZFl+9NFHfT7fZf+I046S4k1f/ZEg/PU/7tjTFEiO9vS//vN/dniYJ9esrnBkncNAKYfX7pNLu0VCv8zAkPo6jx45fuSs896nyhysibgT9QIjaM6dW0C+2RE4e6Y/uj7PM6HFYrjpSMewNLjw/k/5jdTNrkbJSi/S6XQymTpnNGEEjsOQx+y8LyimKkoqlWIYBpuMit8gMpmRK9o1KEly3qJ7v/ClQFJF39l5elhOdDe+9ON/xxLJxzZsWpKT7VKdFM8arLkGFL/MJgGJ8PiYFBKsRQVO8x27sDhOYDZvvj31Qe/ZpuZAcKXLjYqjh3c1RFktd/49RSYKB/LoydMjLGB9tWVmdG7qRca5lWVp8tVC4Py02eq2maaeyaI11wdJkkKhEEVRV5iciqI4w7qq6h76TELHdHT3W6eG4kMfHvndqyaeMRg3ri+3kkgWa/BhRqsdr6sFLH3JVdT4UM/Z0WC3TlWwFIHeqZPhcRIxunJ8PHEsMNjU0THoRYf2/eo/fvv+GA6snvfsNIogiuYqXHHXyvrCuWtfZMafzEsMEH1irRTILKjFxJp4N14sMnoRDoetVuuVi8FRBOWdVfUbNBWRhdHIzjODyfHOwwffMDAG3rx13WI3y1zdVGZ5A1tWftnvRqTIYG8gGArh+RaOwu9YvUBxhLK7ChyGI+HYQF/3qFAsiJopxy7GZTUWHJ04xlC2xGbPdTLoXNaLi95paF/cdmTqtdxu91V2NkMNzsoVaz8hi+GhH756sncs3H9y905J0W05Tz9YUWBj6WvxrgGCCNHgWDIis5Qlz24gpzkJ0FVFVSRJUdJJlDXzHJcpEwe6kk5GozER0WmTx2GksBu71LCuaaosSIoiJFXSQHO8acp00sV0LBmPS4jdZWcJMquWwRDUYPFYWONQQIgGJatnzZf/6q659arMNBihA2hfzJ6FMfchbZ55ax/9pgnXnvmn15tOD4ZHWw9u/xvKavnOl+8uqrBfw7gHED0eGRqPj6WQK67spQnh/sGzTU0DA4fewFZ+YeOqNaU5FAp0RRw6uvMXP3+hAU3Me+zf/vahcha7kYUbQIzEh7veP9MXOPR6f8Hm+Ws2PbbAhk1GZNobXtr+65fakW/84NtrPAWWGaV8knEh1DuW0IFtrq1URsw0MAYA1IvZ8kdu1qUDgcDOnTvr6+uz2GkZRUkT71206Q+/Mph6Dnnn5OmRUGJs30vfNfDf+fKn7l1Q7Zjh9FYAEDE8FhiPhlDG7vQ5WOLScKgSanz1pVde++9dp5OiFB03d+XbsRznw3453vnOv373uV2Nza1Kpd8YTeg3dCgDkaYj21/9r5+/diR17rbECucWY9X6aps708HldDIy1NHW1Ly94eH5dzvM1EwmwyTjyfG+4UgaKTDOsSmhxAyfLfRHbkMEQRgZGeE4LqudBFAcp62ueesfeiwsCLL45vGO9Ohgy1vb/8dOESh974IyCzlD+0KRRVmRUQylOfryARVjHMXzVtz7qLEkPdqy79WDHadbPqwpWczjnccj1qUPfHLFAwiX48qvzqfRG5qHpWzuitq7PomVJrve/fUbjd0DIz3BkAzc9MRN8Pkly1fd/ziRiCIsis5w8WNVVaW0qGhzr7PNNH4B4523mz+iT4Ci6AzqxFAc5XKr1ty/JZoQIvFX3m8fkvrPHPgdZWZZu/EL9SU2Grt+hQI4n7f0rrwlqzeGEwOHLAOtv+jtOnOk4YTFL1Lz1n5xqd9lNNyM+i6U9xWv9BUvq9ejH1CnG0ZPyUo8nVIBMqEXKJfjX7T8fpbuP17g5W/ymiI3MX4xd+wLXRXTqUQ6pHAeJ8eQGKpKUio9OqaavBYDS5DTSLqO6HJsOCqRHG3izQwO/ZFMsZYkSQiCkCR5QTF4Fh3GUFpz36coChHG/uWVtkg4debkIQtuz1syr6DOReEzFgwdAFWefnLJRDkTbTbkLVm9tvrNnw90Hj51ojT/kUdWl1gJZmYXUuVkPBGJhkUtm2gNbTCZbRbzxwRFCAq15hcXuqxnCV1VtY/Oqqmyhuh0RW2hmaOJO1MvwByKd6bHTu/Z/cre7/Wu//kP1yzzG5lg26mde/7s6fHPvfCVzatyC02XPWMtBZIt2/74540l6xZ9+t4vLrej0L5AkGQyGY1GCYLIzc3NIn5xUR8mLaVVaz/9DVIaevLZg2OxUCwlDYdGUooGsirIuJiEII8OjAlqPjXd7NVzhgaGW0sWLfY5BoZpGuRW1tjJGTsgYLx73wsv/eTZf2oIZ3F0/sL7P/f5v/zqkzXmj+tBmMVZ4ODwRCoUGoupiGnCmADxsXFlIOC49xMWM3n7JIhnKZ+q6nKsa8f/vLCrq6kvdcHnjpK71tzz2bX3lnLXwY7WZFkUE4Ki6OdUDOiqJkuJuCApmgZ0MM37OjGCpQVBkM6NYzAQM2kxgkx957UUlaIEac7LWfbIH/9Jy/Cvhr0l6x/9/Ma7fSyDZ22noBjCWOxeu9kWmKhY+5iHgqIYxZcuWJLz5sBYODCeUtBzujKzO0ateXWPfu6Hy1fHlSyOZoxOr9d/1d1kz7ecPrWEiJrsahkJpcNF1fUkOnO54A28Pc9tYdE5t/7dNfgj2dgXiqZGBo43NgcNiL+qvsJy3n8zuMpzckzY9TBSMo8GZG4JIAAze/JWrvnG/0pXV5ltDDLdJTJil/lvziWGb6I/gqKo1+vFr6kOG0UACuSUqDhq6pfddc8DK4vd7Iw8BBTBLXaf3ezIZpNnoCmUOceEDqWHTvX0S/OKKHSGsQuad/qLnf7i6xfHQBHKYLVQTHhcjkeSMoJQINnbHhDGNWtZkZ2+FtvCYOYdBW7TNRhpc84fySreCTSgC8lQGvMtX/zQvV/dnMddHkr4ve0LMCkZekYIMKMjp8bxxZop2x5ME784/+HEd3Xoj2SSIziOV1ZWZrnN8iVqI0T6e47t3dVtLF69ZtP6hfMuXrchK71AeYvHYbAzSlCIpWXtShviAEWXowMDKu128WR4pKWnJ67l2fCbPQULRRCKM5tIWpWUVDwlIyAVbO8aEc1sTkGlnZrhkCGLCVGROSNrz3Pw2NyrdJ0lf+RCax+c79iXKI+SCiUEHceMBhtHnA9hCumkEFFZl4OliYngG9B1RUonkvGUIisoTjIGK89zJIlPWQqT9oWuSlJaHIsgVo+BpXAcnaiulsVkLJkSVBkhCAqYMUUDk1bG+bsCmiJLqXQ6KSQlHUEo1sjxJoZliPOjLdA1VRGEdDyVlDRNJyiW5c0cz5E4iqCIrkmikExHEc7CACCK6bQoqijGm6wmhqXx7OttbpZ3JIoihmFlZWUz1wtdE4KD7Sfeeu29Zt+T31xbt7rcdk2JAMbi9lptjDYQ6hqJiqodTDOuAl1JpUPdZ8atHl9huTPZ1TnUNyrKJo5HJ9xRDJ+IZWhSPBwTgUKaPFYGu0HjM4rjBI6dewVlWVCTweYPBUt1cWGl84LW0FUhmUwkQ4jZa2XZ6aLxCNAQLTLWP55KcUazJ9dO3/Lxi6z9kalKDR1M/nfp00eEjn1//9KhiN38+Ge+vdE94acJwQ/3vP3q+z8auPvZH6xakmcwoECXEqm+5t0vbHtxZ9uZXs5dVPvwXz64ZaM/3/KRJE38RVOCHaffOfIXP0K/8auH6qvtLhKoQjTUfvyNf9+242BfO5qXu2rl1z/riAgKmJSYzF2J4d6207v27n51//ZTMQSpqn9sw0NPrFhT67FO+o5ycmyg69DhPc+/tv3D6FjCV7Zi1cNf37Blg99GoCQihFoPH9qx+yfIpr9YIksn3n93V+OhIG3b+NlvfXnN6nkOxww2B7zl4iniWNO+d3Yd+N/xLf/89Lp6v5VHr3F8tvsrq7zOgqMD3f2hhOrXpnkv5XQ43HVwMKd+bYGyLHCyq6GxZW/TyAP5+WYxFtcwgbN5GQRBxpu3/cMvj8mdpVtf+IuVthuxfhyKIKTZ6XFwQEuPdfUERmPt2op1Obluz0WeUnyo4dXX/mfbM8hTLz+9ZmWBZZoAHlARYXykfzxhW+CvLqvwUHNwIs1M67X0rO0L/bxLAJBp7AsdyYQeUyKlaueHek1XZUkQ4ilZ1SfcDWFs+FTT9n84mq5f/am/eehrHIYmkvHhox8082iVgZ+8mfOqpKuqJCbimKxpOgKAOD52punl/+9wqm7DZ77n8lhwLRYc2P3u3oEEVgGWTDhWANHiH+59Zff4iFa05jurNmMAxKKDHZ1te9/pja978h4vg2qJluOnW4ZPp/x1f/n0MlkDifGBxr72X/3uDecTWyoNTl7XVVkYHR54+zfbE2vXr7j3iXX3Pjo22L77wFuv8wBZvHGpi5/bFkYsFkskEna7fUbJVARR4y1vv76z+WB/8Z/+yYN1uWYLde07suMOf1FFYXXuyGtnR8KyJk2+l6KSHjjy7H+1F6wrKs2pYJLBkiWLrEar5nA4SLPSe/Ttw43+oS7EYrF7ikoyF7eUbHjqa8v0FJ9juUKWZRb0IhPwTMXHmltaG/YuW7HCafXwl6wkxDvnbXzw6wurkLxFLp6+0vMHuq4Z88qK583P8+IIeqvbFxNzKPXsXv1zb7/YevxQZEQ8aJys+PPMW1hXuWaZ2zgZSpiwQc79kRnqz//vpDBJsUBX85GG10aMjy+qrqv15hkQNR4Z7TSP2lgThajgovjFVCxzAlUMDfe1tv0uaH28tmZlnS+P16RgX7seaHhrZAzLHKYgINZzsDmc9tpqqpasKnSxGCKEe/jQG/uCx3d23FvvKqABYXK4i7gFhKeq3GkkUVwKnBFHew6fefvY8PK8fBs3cfcIIVPu/MqiytqyKh+LRd15Y6cOvD3YXemPLLRzJJp9/HaWyBRlTetxpNNpWZbz8vKy1wugy0qk5egbxztH2dwVqz9Rm+vi8N+rtpJ25ZQUl5V2iR3D4ylV0hAen3hEmhDrb9hzSmtfcZdpQ3lRUY6FIUjg9pUVlRc37TxyvPEed11VntXKc5iqq9Gz72zf2xQY5MpKai0L/DdqY0cUJQ0WK8nbcNZk9vqrit0m5uKYb3Ko4b1jxz48Hmb4xQ+X5Jot7LTxGVEe7GqLuqzziucXOZg5aVLO0F4DWcY7JzNLejoeGx7uQ6KTl1E8vipJBfqk8kyOqVOhRx2ZkoBz3TAd7e/rbO7rLd1SVGp1ms4JNmVx5tU68ybe8+GpZAfQMzd23pzRESDGBgPdrf3dpXf7y2xOE4GjBOfOXXRPbc3/OXmSnJAUTUJSA6cP9Yyxumxr/2Bnz+RTGwoGemMj48Ojou4lMaOvIN+asoyGh4+0H48oohIPnu4dEiNtveG46NUQ7NwtUyziX7i4rrA0z8CiiM4YfZU++vlIbCgWETQfid1E+0JV1dHR0aGhIUEQqqqqLBbLJaohSZKiKDzPZ5tM1SUlHmjdv+twu8ZVLlyzeWEx/3uHHFHeXlBSVtWZdzgQjUmSChAcRVAcJ235datKTzOswUDYfCWT4RF7zoJVdz8Cevbjbnt+Yb7HZ2cJRNGALASbjm7f02hYWeeq/dTyGxfyJDizM3/hQkvO4rqltaWmy4I4mhTt6Ti0a8dRxcTefd9ir89MTxMMktOx7uZOprjaX1Th5dHbQS+mzztc6TDALbl7xYP3/OnmXO5SM0VHLkhtnj+nfsH5dQAkIZ5MRiRzhcVEY+Sl15068qP45dQnCEjGRkaHOsbM5RYzjVEouDg/MnFRRQQjvS0tgx8MtMf3HnjzQiuAKcyt4WhMxxBEE8MjZ3tOHmjuPHBob2s8nJIVQZApM7EcnI/mXJijnfpFCJKIpaKpZFpDTOhN0QsAgCAIgUDg0KFD+/fvHx8ff+qpp1atWmW32y88LJFIZOq1srRU1FQw1Hbg5RcPJ+u+sP6++lUFxuvxZhO8p7i8smqT4VB4PJkQbB6aRBEKZ3IXbv2bhVsvtUYsxas3FK/e8OSFH5I44Zq/5ZE1B2U7VjK/0svesKwW0GQZsy7ftN5e+sDqvOnsArN/+d0ruxKDvR3W2kI3P225p6bKqdGeEWr5fcULCwrMc3SNMWKGUpFlvHMqmgiQaeOdU53q/Dk/8kculYArnUQHF4rLR/0WnXJPwEcxl6nz61NZnvOX8C55fE39E6s2lLAXBrwxguQMKI4q4YYjb+5q+01f3p99++8+42OMZKx333u7f3XoZTTzEzDkMsm44ORgJhWx11kvBEE4ePDg97///UQiQZJka2trLBb7yU9+coletLa2nj59+oknnsjKHwHJUM+Jvc8/v9P02DdXL1tVbr1eMyNQzuOpKNv8ib3PtfRWF9r8lhmfGeiqcPbUibhVKi6t8vM3qgepiD7W1smWVvk9JQWW6bUTSMM9XcOpRmbRd6rM/LQTEUBaiAdPvaus3lq5pMRlmqsVoddQDw6yzI9c0Iumi3de2q8u+ta5C6Eka+YtOdzF/f8ifx98lIvRLzibDlCGMfNGBxXtDkVFRQLgnHetq7qYTuqakrkBgkStVq9N7kBVAaFMtsvHSYCA6HBrz3B/0lDoX1hmd/E4hWpGI80QyIV3dYEwAfCR0TGzGb3X3RvBcdxms23dupUkyc7OzoaGhtOnT4+OjsqyfOE6Wpqm6brOsmwW/ogYaj24793DPx1f88WvrltR7jYTM41xKpoS7++SzDlWo5m9aB4ryhg8xdWbtyz6xYfhPk8gx1zEzyj+Kmly//E39gzxi4vn+Qu5G1MYqcrpeLBjmCot9zjtNu4KMRww2vnB0bbAKL5ybZUJn66cDajhwFBX0wvGdU+V+vzXVuQ1N/2RLO2LKY24wHy48OUACGVyFhlYWRkbCoVlh4UQE11tH77f+v6pGGLNdHva5PXk5Tstb5w6s9Fl55w5nCZFw8OtfSPO8sIc8gLn4iPJmFQolDR63AVFHtd/tHR2lRY6GJaVkgNdDa/tPx5IpoomvoKTiCl/8cbcno6x1iOdzQXzqtwMiijpsZGBgDgmWWqXO6lzpwK6oiopRScQgAix7u72k90n+0VQMpUDAhcbSgBcFH+9afYFQRB+v9/tdpMkieO4ruuJRCIUCqXT6Sm9yAQvUBTNohhcS/efOLSncX8bs2DzA5tq8vJMM59GpYtqevDDdnSBgTeZL/EYMIJ12Erq1tfsODk03NHt8sx3zmBjHiWljnUcPqA7VhQuqvZZZs2cB0pSjnTs39FLzSt159sMyZTAOx1ep5mjr7QlG4j2tjYm4kl3/ZpyFzFdebgaDfYHu9rR2k+sq8q3Webw3m6zU9+JIgDDaSOlBwa6Dn+wS7SdD+8QrNvtKc6t8NAoZSlYVlqiBI51fvi7347YDQybHO4dTsRV9PxYjXHe3OIFFfXvNPcePqYNGK0kCgRJSUSEmjyn08CdFwgwmRy9sHwL4z2+kqXzNr/z4dDBI/uGrB47qUmxoYGUggOUyNggGEo75z9Y276tp6391Huvjva6ORRhaDyVUGiJoRdP2Cm2Un9Rn9zV2/rWq2kvRTLJka7BeOyc6Z7RgimbS59yi8DFiV7kJukFjuNOpzPzd7fbnZubOzw8HA6Hk8mkxTKZO0ilUpIkEQRxlXgnUNVUoG3fgaNn0op3xR89tKjQRMz8rQa6GE8OtjSGigvk6WZGYDTO+xZsXBg4Gg3193U5+SoPl90MEaAJ8VjXqaOxokWe3Ao3O2u5JqArCXHg/e3PHaLv3bh847KFZs5amGel0CsEtc+9A+mB1jNjbJovebDYOOUzX+isJIKBoRFRMMz/g01lPgafy5s1XUP9RVZvP4rz7iqftbn9xIuNp16c+pjzrl6z9g/uL/M4MIT2LF62GuDp197/2f/bi9hqNn5h5er7VuVUdI800DQBUATgZldu/dIvO6m3/3P3m68OnR03Ogvmb/7amtXFJrcJSdEMb7X4kjRDTnRXHKeMvDcX5SgEQwBmcvpWLHnyR/orf//6G9vC497Sso13felrW33Uy00Onmcy5gBqmL9sC2PK2bF/1y/eej6CAKRk+Sfq7vlUyZqFHhbVEYRyL1l2D0HjL+/5t+++qYOSZZ9cvHhx9ZYcw3aMpIhzTx+jac5q8bkYlkTQjFKgCEpz9hyjxUxReLYtNqvzRzwez9q1a1955ZVgMBiLxXJzc6diHJIkMQzjdrs/pjNqYnS8dc/uXQGlYNmmx+prLMS1jIC6nB4f6j5ybIAoFYnpUyooRtH5q9cJ+46dHWo4bfZai21UNktpqGJyvL/5ZEvxkioOYFIiBfjZWhND1xEhHeVULJISddpSXuT9uEUIAYKIIx1NHRyRcBi5dDgOLLaLZpHpcnos0DaSxkyVDy0v4vA5PpUVBVfL+wuCEAwGu4eP9wg76pc9wrLGbKNPoiiIqqKBi2SEokiG4jJjE9A1RZUlWZB0BCMo5lwPBJqWVgiDgSAy1fMA6BNrqkqKrukohhM0N2FfY+fGPEVS0hpp4AkCR9FzxynJNMqaKJJAscnvKlJKklVdxwicIlkGB4KoYiRGksx5u1DXVFWSZVGRz/VrgqRJiiFIApt0zQHQ1YmbFFWAECRDkPi574gIZWBxAkN1VVEkOa2RPE+S+OQ9A1VOpXSUImmGyLJvtXYcSYfQBd7HvV4vTdMzrJ66Cl1dXc8///yPf/zjLVu2PPXUU3fffXfm88HBwe9///vDw8Pbt2+/4pOUQonew//xvZ92FH161X33PFCba76mWguQ7Gzd89bP/nYn+fQ/PbG2ZMGVN2AHWjo61NY7EOzEl29eaDJcfaWS5Hj7/r0//Pb3xRXL6h7dum7Z6nk2fNYsDKAK8aSKECRF0zSJf2wIR0GQ4P7//4+e7SBjBfd9YcPmT6/OIdAp+0JFkPip3UfS5nxnSYnfxhJzftfYWYp3TuxZwbIG9mPHUhTFzqkHyVwkQSTFfhTRPDdWEwRtJC5/uVCCoAiCmrJ9MAxnaDNzyXdJxkxelOIycOTF4zmK4yTHkhzLXxZPzfhWKEnQJEEbLs7pnT/JpbcxWSJM8ZaLz5OVPzJbowtN0w6HA8Ow0dHRWCw29XkkEmFZNicn58o3lYr0NR59+devY6sfqa9dUeU2zlAsgK5Iwa6zQ/3N7+0+uOPgriHXowxNfWzPQHHW5CotNea5gYHJyu1hTLm1q//8Z/8OLCazN8dunMVsJIqhJG+2ZusUIoi9+rFnvpNGVdaZY7dfIBaZfzUU1tTqFEcbGOJW2GL6GuabaQhkNsat2fRHOI7LycnBMKyzszMQCGialpm9nk6nrVbrlZfJkRP9p068+7ufbTt4CkmZXxnrPWCYYex+wsaLjYxGxvpb23rbkmNMtc3MXE0FUJw2GmijIevXmOJd3mqXd849VQxBGFvJEtuV4nwIZXK5bqG3FK7fOZcUYzb1wufz4TgeCASGh4cFQTAYDJnFL4xG41T489J4Q/hs04G3tm176/VTAQQJbD/1+3effJPVbTPTNInB530rMtOMmAb3H7kV9YKiKLvdznFcNBpNJBKRSCSjF6qqgnOe3OW9V0e01MjxN3b89vWX9nZdv/sgUafZyE/EgCC3u14AHdF16I/cgv4IjuMmk2nlypV79+4Nh8MjIyN5eXkIgvT29qbT6ZKSksvGBVkPffDmi68deL8lfj3tHAYr8jkMJI2j8Inf/vYF3H/kFtWLzPLffr+fZdlkMjkV8lRVlWVZk8l0meNAouaFm/78B/O3xuLqdbRzjKS9eKGdZaFc3Bn+iA7jnbeiP5LRi5KSEp7no9FoMBjMfCjLcsZbufRoFEdpp7/G6YePBXJteqHreig8TFEMbLXZQBCSGDKLbUsQRHFxMc/zgUCgq2syJBEIBBiGYVkWtj/kuukFiqIYSqIa3dnSAptslkBR1GXIRWdtDTaCIDKVYF1dXY2NjaqqEgTR2NhYXl4+VTZ+HW0lXVVUWRRVIOGcjSNwFHogd4ZeZHbKM1K+HOQTsiIBAOMXsyIXDEPbKOdMNxnLHgzDXC4XTdOZmt2hoSGfzzdrP0eNB5rbT7y772x0v2vrLz5VmmMgoWDcEXqB4zjHcXabkyToTPoNSsZsGBckSRoMBp7nr2XfoOz0wmQyZdbFkWU5HA6bTKaMlUGS2U1xSrYdeXnv0SaR3/oHjy+wGK5Uc6UrSPzDPc/+bMe7BxutJdyjn/7YXYggt51esCyLYRjHcbquZ6ZHwIa77nqBYRhFUTRN4zg+G3qRkaT58+e3traKojg6OmqxWFRVZRiG57NbXQbnrbn5fk1hzOTHLXyBoghpzV24sGKwbzyqh+DTvaP0AsMwkiQJgmBZFirFbEtG5s/Zu8rSpUtPnjwZjUYDgYDP59M0jaZpjrva9pRAQ+RQ96neUYk2Vxbk2T92sgNKIHzJ8s89bjYlsbdPboeP9o7Si4xkZAwN2F63Ol6v12KxDAwMdHR01NTUZEaCq38NKEii6Z1//N5/vhWILt7ypX985qs1JiMFIxJQLyC3NQ6Hw2g09vf3v/LKK3V1daWlpQUFBVmMGDRiW/nIn38mYGw/JsxbUmakCDgBBOoF5HbHZrMZjUZVVePx+MjIiM1ms1qzm5uNqbGxQcHOmt2lJWQ4sPuXv9x5pnkgcelh9iJT3dZnPrugwAgbG+oF5BbHarVmopu6rsdisWyTI7oCYm0nDgbiUkn5ggInRcUc/pIKhLQLlx5p9HK5Jo6A5RZQLyC3PhzHuVwuh8Mhy3IwGDSbzdMUg18WvQCqmO754FA7rlXkLy9zMjimukqrFtjdCfnSYxkz5bHwBAbdFagXkNuB8vLyJUuWHDhwoKWlZf369VdY/OIi60JTEoHTDW3eink11TV5lCoFB9776T/88sjRjvClx3qr7Zv/n19/q77cCib3pYJAvYDcutjtdq/Xq+t6KBTKFGVczbwQFTFwZn+HN2++24yJgyk831P66A+f2yRJymV6gFMYa3KYaBKEpLSQvtwAgUC9gNxCWCwWl8ulqurQ0JAkSVf/gppWxgaajmuIMI7MS8dpBkVxkrc7r1jkpSF6/wc/+9eXX379ja54sO2vn4x8/VuPLVtVbIPT2qBeQG4xzGazzWbTdT0cDtM0ffXJqShDmYtrP/eH8z0+Z0WO03TVugsUQRhTTuWCDSxXjyA4jRTZrQxMwEK9gNyCGI3G3NzcgoICSZJsNtvV9YIwMt6a+5+uyfoKGIK5Kx/6UuVDsLGhXkBucXier66u/vznPz8yMuLxeDCYyoBkDQqnhNxpAAAURUmlUpqmcRyXmeEGmwUC9QICgVxPoC0KgUCgXkAgEKgXEAgE6gUEAoF6AYFAoF5AIBCoFxAIBAL1AgKBQL2AQCBQLyAQCNQLCAQC9QICgUC9gEAgEKgXEAgE6gUEAoF6AYFAoF5AIBCoFxAI5Hbi/wYAAP//tVIdQkh12hAAAAAASUVORK5CYII=)"
      ]
    },
    {
      "cell_type": "markdown",
      "metadata": {
        "id": "w2WSI87J9NRx"
      },
      "source": [
        "Calculation of Euclidean distance"
      ]
    },
    {
      "cell_type": "code",
      "metadata": {
        "id": "aXdMnKmY7jZD"
      },
      "source": [
        "import math\r\n",
        "\r\n",
        "def Euclidean_distance(row1, row2):\r\n",
        "    distance = 0\r\n",
        "    for i in range(len(row1)-1):\r\n",
        "        distance += (row1[i] - row2[i])**2\r\n",
        "    return math.sqrt(distance)"
      ],
      "execution_count": null,
      "outputs": []
    },
    {
      "cell_type": "markdown",
      "metadata": {
        "id": "dv554oK79QpN"
      },
      "source": [
        "Get the k nearest neighbors after sorting distance"
      ]
    },
    {
      "cell_type": "code",
      "metadata": {
        "id": "toRcks2G8ZP1"
      },
      "source": [
        "def Get_Neighbors(train, test_row, num):\r\n",
        "    distance = list() # []\r\n",
        "    data = []\r\n",
        "    \r\n",
        "    for i in train:\r\n",
        "        dist = Euclidean_distance(test_row, i)\r\n",
        "        distance = np.append(distance,dist)\r\n",
        "        data = np.append(data, i)\r\n",
        "        distance = np.array(distance)\r\n",
        "    \r\n",
        "    data = np.array(data)\r\n",
        "        \r\n",
        "    #Finding the index in ascending order\r\n",
        "    index_dist = distance.argsort()\r\n",
        "        \r\n",
        "    #Arranging data according to index\r\n",
        "    data = data[index_dist]\r\n",
        "        \r\n",
        "    #slicing k value from number of data\r\n",
        "    neighbors = data[:num]\r\n",
        "        \r\n",
        "    return neighbors"
      ],
      "execution_count": null,
      "outputs": []
    },
    {
      "cell_type": "markdown",
      "metadata": {
        "id": "nYi677QmAMts"
      },
      "source": [
        "Predicting the class of the new data point"
      ]
    },
    {
      "cell_type": "code",
      "metadata": {
        "id": "1HlbD3Hj9_jA"
      },
      "source": [
        "def predict_classification(train, test_row, num):\r\n",
        "    Neighbors = Get_Neighbors(train, test_row, num)\r\n",
        "    classes = list()\r\n",
        "    \r\n",
        "    for i in Neighbors:\r\n",
        "        classes.append(i)\r\n",
        "    \r\n",
        "    prediction = max(classes, key= classes.count)\r\n",
        "    return prediction"
      ],
      "execution_count": null,
      "outputs": []
    },
    {
      "cell_type": "markdown",
      "metadata": {
        "id": "PprozBx8EfPT"
      },
      "source": [
        "Accuracy calculation\r\n",
        "\r\n",
        "Accuracy = Number of features classified correctly/Number of Features"
      ]
    },
    {
      "cell_type": "code",
      "metadata": {
        "id": "Z2yoQ9jDAYeY"
      },
      "source": [
        "def accuracy(y_true, y_pred):\r\n",
        "    n_correct = 0\r\n",
        "    for i in range(len(y_true)):\r\n",
        "        if y_true[i] == y_pred[i]:\r\n",
        "            n_correct += 1\r\n",
        "            \r\n",
        "    acc = n_correct/len(y_true)\r\n",
        "    return acc"
      ],
      "execution_count": null,
      "outputs": []
    },
    {
      "cell_type": "markdown",
      "metadata": {
        "id": "7tYEJqJ7FGP1"
      },
      "source": [
        "Recognition of Handwritten Digits using K -nearest Neighbors"
      ]
    },
    {
      "cell_type": "markdown",
      "metadata": {
        "id": "DBcqI_XSFRjE"
      },
      "source": [
        "MNIST Dataset ( Modified National Institute of Standards and Technology )"
      ]
    },
    {
      "cell_type": "markdown",
      "metadata": {
        "id": "gRazoyd7FhaD"
      },
      "source": [
        "![image.png](data:image/png;base64,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)"
      ]
    },
    {
      "cell_type": "code",
      "metadata": {
        "id": "ibkvUycpFCl3"
      },
      "source": [
        "#import libraries\r\n",
        "\r\n",
        "from sklearn.datasets import fetch_openml, load_digits\r\n",
        "import numpy as np\r\n",
        "import pandas as pd \r\n",
        "import matplotlib.pyplot as plt\r\n",
        "import matplotlib"
      ],
      "execution_count": null,
      "outputs": []
    },
    {
      "cell_type": "code",
      "metadata": {
        "id": "AFi7E7oCFy-q"
      },
      "source": [
        "#fetch dataset\r\n",
        "mnist = fetch_openml( 'mnist_784' ) "
      ],
      "execution_count": null,
      "outputs": []
    },
    {
      "cell_type": "code",
      "metadata": {
        "id": "nJx1NpwuF_II"
      },
      "source": [
        "# checking the column names and preprocessing target values in standard format\r\n",
        "mnist.keys()\r\n",
        "mnist.target = mnist.target.astype(np.int8)\r\n",
        "\r\n",
        "\r\n",
        "#Determining independent and dependent variable and finding the shape\r\n",
        "x = np.array(mnist.data)\r\n",
        "y = np.array(mnist.target)\r\n",
        "x.shape, y.shape\r\n",
        "\r\n",
        "\r\n",
        "#output ((70000, 784), (70000,))\r\n",
        "# shuffling the values of x and y\r\n",
        "si = np.random.permutation(x.shape[0])\r\n",
        "x = x[si]\r\n",
        "y = y[si]"
      ],
      "execution_count": null,
      "outputs": []
    },
    {
      "cell_type": "markdown",
      "metadata": {
        "id": "GJMz7IXvHgHV"
      },
      "source": [
        "test some random digit from the data set"
      ]
    },
    {
      "cell_type": "code",
      "metadata": {
        "colab": {
          "base_uri": "https://localhost:8080/",
          "height": 248
        },
        "id": "qusLVL-3HNOG",
        "outputId": "d51fd089-1996-495c-f32d-e9864bffa203"
      },
      "source": [
        "some_digit = x[2]\r\n",
        "some_digit_image = some_digit.reshape(28, 28)\r\n",
        "plt.imshow(some_digit_image, cmap=matplotlib.cm.binary)\r\n",
        "plt.axis('off')\r\n",
        "plt.show()"
      ],
      "execution_count": null,
      "outputs": [
        {
          "output_type": "display_data",
          "data": {
            "image/png": "[encoded data removed]",
            "text/plain": [
              "<Figure size 432x288 with 1 Axes>"
            ]
          },
          "metadata": {
            "tags": []
          }
        }
      ]
    },
    {
      "cell_type": "code",
      "metadata": {
        "colab": {
          "base_uri": "https://localhost:8080/"
        },
        "id": "XNE99Y9UHNpA",
        "outputId": "0f5f3d66-8808-4623-9379-f0cb9fa91cfe"
      },
      "source": [
        "#slicing data\r\n",
        "trainx = x[:2000]\r\n",
        "trainy = y[:2000]\r\n",
        "#Inserting trainy in trainx\r\n",
        "train = np.insert(trainx, 784, trainy, axis = 1)\r\n",
        "prediction = predict_classification(train, train[1244], 4)\r\n",
        "prediction\r\n",
        "#Output 8.0"
      ],
      "execution_count": null,
      "outputs": [
        {
          "output_type": "stream",
          "text": [
            "0.0\n",
            "0.0\n",
            "0.0\n",
            "170.0\n"
          ],
          "name": "stdout"
        },
        {
          "output_type": "execute_result",
          "data": {
            "text/plain": [
              "0.0"
            ]
          },
          "metadata": {
            "tags": []
          },
          "execution_count": 84
        }
      ]
    },
    {
      "cell_type": "code",
      "metadata": {
        "colab": {
          "base_uri": "https://localhost:8080/"
        },
        "id": "vNpDG30dPHC7",
        "outputId": "68e2a440-e809-43e3-ff77-bc5db338d3f7"
      },
      "source": [
        "train[1244][-1]"
      ],
      "execution_count": null,
      "outputs": [
        {
          "output_type": "execute_result",
          "data": {
            "text/plain": [
              "9.0"
            ]
          },
          "metadata": {
            "tags": []
          },
          "execution_count": 85
        }
      ]
    },
    {
      "cell_type": "code",
      "metadata": {
        "colab": {
          "base_uri": "https://localhost:8080/",
          "height": 248
        },
        "id": "Tfxipd6HSwdg",
        "outputId": "ad8fb77a-8474-4081-f0a9-c1ad1d4490f8"
      },
      "source": [
        "#Plotting the output\r\n",
        "some_digit = train[1244][:-1]\r\n",
        "some_digit_image = some_digit.reshape(28, 28)\r\n",
        "plt.imshow(some_digit_image, cmap=matplotlib.cm.binary)\r\n",
        "plt.axis('off')\r\n",
        "plt.show()"
      ],
      "execution_count": null,
      "outputs": [
        {
          "output_type": "display_data",
          "data": {
            "image/png": "[encoded data removed]",
            "text/plain": [
              "<Figure size 432x288 with 1 Axes>"
            ]
          },
          "metadata": {
            "tags": []
          }
        }
      ]
    },
    {
      "cell_type": "code",
      "metadata": {
        "colab": {
          "background_save": true
        },
        "id": "aRJrdEJ9S5SP",
        "outputId": "614425e6-ffd2-44bb-9441-d540b94b8c88"
      },
      "source": [
        "import time \r\n",
        "start_time = time.time() \r\n",
        "\r\n",
        "y_pred=[]\r\n",
        "y_true=train[:,-1]\r\n",
        "for i in range(len(train)):\r\n",
        "    prediction = predict_classification(train, train[i], 4)\r\n",
        "    y_pred.append(prediction)\r\n",
        "\r\n",
        "\r\n",
        "print(\"--- %s seconds ---\" % (time.time() - start_time))\r\n",
        "\r\n",
        "# Accuracy\r\n",
        "print(accuracy(y_true, y_pred))\r\n",
        "# Output 0.929 (i.e., 92%)"
      ],
      "execution_count": null,
      "outputs": [
        {
          "output_type": "stream",
          "text": [
            "--- 5860.450417757034 seconds ---\n",
            "0.094\n"
          ],
          "name": "stdout"
        }
      ]
    },
    {
      "cell_type": "code",
      "metadata": {
        "id": "lfb37JGuTAG2"
      },
      "source": [
        ""
      ],
      "execution_count": null,
      "outputs": []
    }
  ]
}